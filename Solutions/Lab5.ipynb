{
  "nbformat": 4,
  "nbformat_minor": 0,
  "metadata": {
    "colab": {
      "name": "EE17BTECH11022_Lab5",
      "provenance": []
    },
    "kernelspec": {
      "name": "python3",
      "display_name": "Python 3"
    }
  },
  "cells": [
    {
      "cell_type": "code",
      "metadata": {
        "id": "TRolAa6ozMOh"
      },
      "source": [
        "import cvxpy as cp\r\n",
        "import numpy as np"
      ],
      "execution_count": 1,
      "outputs": []
    },
    {
      "cell_type": "code",
      "metadata": {
        "colab": {
          "base_uri": "https://localhost:8080/"
        },
        "id": "SX8lf7aozQCp",
        "outputId": "42d887cb-86c2-4009-f608-b858e40b129b"
      },
      "source": [
        "m,n = 5,3\r\n",
        "x =cp.Variable((n,m))\r\n",
        "cost = np.array([[8,6,10,9,8],[9,12,13,7,5],[14,9,16,5,2]])\r\n",
        "demand = np.array([45,20,30,30,10])\r\n",
        "supply = np.array([40,50,45])\r\n",
        "\r\n",
        "c = cp.multiply(cost,x)\r\n",
        "c = cp.sum(c)\r\n",
        "objective = cp.Minimize(c)\r\n",
        "constraints = [x>=0, x.T@np.ones(n)>=demand,  x@np.ones(m)<=supply]\r\n",
        "P = cp.Problem(objective,constraints)\r\n",
        "cost_opt = P.solve()\r\n",
        "ship = x.value\r\n",
        "\r\n",
        "print(\"Optimum Cost :\",cost_opt)\r\n",
        "print(\"Optimum shipped items:\",ship)"
      ],
      "execution_count": 11,
      "outputs": [
        {
          "output_type": "stream",
          "text": [
            "Optimum Cost : 1025.0000000955836\n",
            "Optimum shipped items: [[7.77167004e-09 1.50000000e+01 2.50000000e+01 1.19073612e-09\n",
            "  3.61569238e-11]\n",
            " [4.50000000e+01 8.72312941e-09 4.99999999e+00 6.65873823e-09\n",
            "  3.28452853e-09]\n",
            " [3.32563406e-09 5.00000000e+00 9.35542028e-09 3.00000000e+01\n",
            "  1.00000000e+01]]\n"
          ],
          "name": "stdout"
        }
      ]
    }
  ]
}