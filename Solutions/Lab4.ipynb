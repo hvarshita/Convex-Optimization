{
  "nbformat": 4,
  "nbformat_minor": 0,
  "metadata": {
    "colab": {
      "name": "EE17BTECH11022_Lab4",
      "provenance": []
    },
    "kernelspec": {
      "name": "python3",
      "display_name": "Python 3"
    }
  },
  "cells": [
    {
      "cell_type": "code",
      "metadata": {
        "id": "r3z4sksd1v2-"
      },
      "source": [
        "import numpy as np\n",
        "import cvxpy as cp\n",
        "import matplotlib.pyplot as plt"
      ],
      "execution_count": 1,
      "outputs": []
    },
    {
      "cell_type": "code",
      "metadata": {
        "id": "VoEyXNbBAqTO"
      },
      "source": [
        "def write():\n",
        "  print(\"For Cost Func 1\")\n",
        "  print(\"n:\",i)\n",
        "  print(\"Optimum cost:\",c1)\n",
        "  print(\"Coefficients:\",ans)\n",
        "  print(\"\\n\")\n",
        "  print(\"For COst Func 2\")\n",
        "  print(\"n:\",i)\n",
        "  print(\"Optimum cost:\",c2)\n",
        "  print(\"Coefficients:\",ans)\n",
        "  print(\"\\n\")"
      ],
      "execution_count": 81,
      "outputs": []
    },
    {
      "cell_type": "code",
      "metadata": {
        "id": "2IH4oTkhKYDc"
      },
      "source": [
        "def Optimization(n):\n",
        "  N = 100\n",
        "  m = 2*N+1\n",
        "  x = np.linspace(-1,1,m)\n",
        "  a = cp.Variable(n)\n",
        "  xk_i = []\n",
        "  c1 = []\n",
        "  c2 = []\n",
        "  for j in range(n):\n",
        "     xk_i.append(x**j)\n",
        "  xk = np.array(xk_i)                 \n",
        "  cost_func1 = cp.sum_squares(x**i-(a@xk))  \n",
        "  cost_func2 = cp.norm(x**i-(a@xk),1)                      \n",
        "  obj1 = cp.Minimize(cost_func1)\n",
        "  obj2 = cp.Minimize(cost_func2)\n",
        "  constraints = []\n",
        "  P1 = cp.Problem(obj1,constraints)\n",
        "  P2 = cp.Problem(obj2,constraints)\n",
        "  c1 = P1.solve()\n",
        "  c2 = P2.solve()\n",
        "  ans = a.value\n",
        "  return c1,c2,ans"
      ],
      "execution_count": 77,
      "outputs": []
    },
    {
      "cell_type": "code",
      "metadata": {
        "colab": {
          "base_uri": "https://localhost:8080/"
        },
        "id": "O3zV1IdzQBDk",
        "outputId": "7158c003-ebb7-437b-fa7f-b572d250e03b"
      },
      "source": [
        "n = [5,10,20]\n",
        "for i in n:\n",
        "  c1,c2,ans = Optimization(i)\n",
        "  write()"
      ],
      "execution_count": 83,
      "outputs": [
        {
          "output_type": "stream",
          "text": [
            "For Cost Func 1\n",
            "n: 5\n",
            "Optimum cost: 0.30929400823621367\n",
            "Coefficients: [-8.31515845e-22 -1.89225000e-01  2.71569377e-17  1.00690000e+00\n",
            " -7.37739142e-17]\n",
            "\n",
            "\n",
            "For COst Func 2\n",
            "n: 5\n",
            "Optimum cost: 6.4346126310217775\n",
            "Coefficients: [-8.31515845e-22 -1.89225000e-01  2.71569377e-17  1.00690000e+00\n",
            " -7.37739142e-17]\n",
            "\n",
            "\n",
            "For Cost Func 1\n",
            "n: 10\n",
            "Optimum cost: 0.0003217798458649965\n",
            "Coefficients: [ 1.00281966e-03  3.37484497e-18 -6.16274578e-02  3.11196546e-17\n",
            "  5.68114389e-01 -1.15535794e-16 -1.79310458e+00  1.96965329e-16\n",
            "  2.27569998e+00 -3.87542482e-17]\n",
            "\n",
            "\n",
            "For COst Func 2\n",
            "n: 10\n",
            "Optimum cost: 0.205947581084819\n",
            "Coefficients: [ 1.00281966e-03  3.37484497e-18 -6.16274578e-02  3.11196546e-17\n",
            "  5.68114389e-01 -1.15535794e-16 -1.79310458e+00  1.96965329e-16\n",
            "  2.27569998e+00 -3.87542482e-17]\n",
            "\n",
            "\n",
            "For Cost Func 1\n",
            "n: 20\n",
            "Optimum cost: 4.208443540338286e-08\n",
            "Coefficients: [-8.91269868e-07 -1.34785290e-08  2.18087397e-04  5.53263724e-07\n",
            " -7.98313662e-03 -7.91836309e-06  1.10553584e-01  5.58587275e-05\n",
            " -7.69118266e-01 -2.23265376e-04  3.05240425e+00  5.38927917e-04\n",
            " -7.33806074e+00 -8.00750984e-04  1.08753994e+01  7.16051424e-04\n",
            " -9.70872497e+00 -3.53343267e-04  4.78529725e+00  7.39012812e-05]\n",
            "\n",
            "\n",
            "For COst Func 2\n",
            "n: 20\n",
            "Optimum cost: 0.00020787800502430228\n",
            "Coefficients: [-8.91269868e-07 -1.34785290e-08  2.18087397e-04  5.53263724e-07\n",
            " -7.98313662e-03 -7.91836309e-06  1.10553584e-01  5.58587275e-05\n",
            " -7.69118266e-01 -2.23265376e-04  3.05240425e+00  5.38927917e-04\n",
            " -7.33806074e+00 -8.00750984e-04  1.08753994e+01  7.16051424e-04\n",
            " -9.70872497e+00 -3.53343267e-04  4.78529725e+00  7.39012812e-05]\n",
            "\n",
            "\n"
          ],
          "name": "stdout"
        }
      ]
    },
    {
      "cell_type": "code",
      "metadata": {
        "colab": {
          "base_uri": "https://localhost:8080/",
          "height": 266
        },
        "id": "e_VTZqqzMNmP",
        "outputId": "45fa3aa8-4c92-4489-c99c-c0117016f439"
      },
      "source": [
        "n = np.arange(1,21)\n",
        "Y1 = []\n",
        "Y2 = []\n",
        "for i in n:\n",
        "  c1,c2,_ = Optimization(i)\n",
        "  Y1.append(c1)\n",
        "  Y2.append(c2)"
      ],
      "execution_count": 85,
      "outputs": [
        {
          "output_type": "display_data",
          "data": {
            "image/png": "[encoded data removed]",
            "text/plain": [
              "<Figure size 432x288 with 1 Axes>"
            ]
          },
          "metadata": {
            "tags": [],
            "needs_background": "light"
          }
        }
      ]
    },
    {
      "cell_type": "code",
      "metadata": {
        "colab": {
          "base_uri": "https://localhost:8080/",
          "height": 281
        },
        "id": "E8XukqpnQPAQ",
        "outputId": "0f1593f0-ec61-4ec9-d34c-fdf2faae346a"
      },
      "source": [
        "plt.title(\"Plot for 1st cost function\")\n",
        "plt.plot(n,Y1)\n",
        "plt.show()"
      ],
      "execution_count": 88,
      "outputs": [
        {
          "output_type": "display_data",
          "data": {
            "image/png": "[encoded data removed]",
            "text/plain": [
              "<Figure size 432x288 with 1 Axes>"
            ]
          },
          "metadata": {
            "tags": [],
            "needs_background": "light"
          }
        }
      ]
    },
    {
      "cell_type": "code",
      "metadata": {
        "colab": {
          "base_uri": "https://localhost:8080/",
          "height": 281
        },
        "id": "XH4riBwlOegN",
        "outputId": "a4d5bde3-f824-4882-a4a1-513ccdebeb37"
      },
      "source": [
        "plt.title(\"Plot for 2nd cost function\")\n",
        "plt.plot(n,Y2)\n",
        "plt.show()"
      ],
      "execution_count": 89,
      "outputs": [
        {
          "output_type": "display_data",
          "data": {
            "image/png": "[encoded data removed]",
            "text/plain": [
              "<Figure size 432x288 with 1 Axes>"
            ]
          },
          "metadata": {
            "tags": [],
            "needs_background": "light"
          }
        }
      ]
    }
  ]
}